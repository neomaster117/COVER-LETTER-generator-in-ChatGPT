{
 "cells": [
  {
   "cell_type": "markdown",
   "id": "7b7c77e6",
   "metadata": {},
   "source": [
    "### Setup\n"
   ]
  },
  {
   "cell_type": "code",
   "execution_count": null,
   "id": "98a3787d",
   "metadata": {},
   "outputs": [],
   "source": [
    "pip install transformers"
   ]
  },
  {
   "cell_type": "code",
   "execution_count": null,
   "id": "33b60ad7",
   "metadata": {},
   "outputs": [],
   "source": [
    "pip install openai"
   ]
  },
  {
   "cell_type": "code",
   "execution_count": null,
   "id": "382ef7ed",
   "metadata": {},
   "outputs": [],
   "source": [
    "pip install fpdf"
   ]
  },
  {
   "cell_type": "code",
   "execution_count": null,
   "id": "8e313ab2",
   "metadata": {},
   "outputs": [],
   "source": [
    "pip install pandas"
   ]
  },
  {
   "cell_type": "code",
   "execution_count": null,
   "id": "540aa81c",
   "metadata": {},
   "outputs": [],
   "source": [
    "import os\n",
    "import openai\n",
    "import tkinter as tk\n",
    "from tkinter import scrolledtext\n",
    "from datetime import date\n",
    "from fpdf import FPDF\n",
    "import pandas as pd \n",
    "\n",
    "\n",
    "#Created a small software to automate date\n",
    "\n",
    "def text_editor(txt):\n",
    "    print(\"text coming in editing window is:\", txt)\n",
    "    # Create a tkinter window\n",
    "    window = tk.Tk()\n",
    "    window.title(\"Text Editor\")\n",
    "\n",
    "    # Create a scrolledtext widget to display the text\n",
    "    text_widget = scrolledtext.ScrolledText(window, width=100, height=20)\n",
    "    text_widget.insert(tk.END, txt)\n",
    "    text_widget.pack()\n",
    "\n",
    "    # Create a function to save the modified text\n",
    "    def save_text():\n",
    "        modified_text = text_widget.get(\"1.0\", tk.END)\n",
    "        global newtext\n",
    "        newtext = modified_text.replace(\"} {\", \"\")[1:-1]\n",
    "        window.destroy()\n",
    "        print(\"newtext in editing window is:\", newtext)\n",
    "        return newtext\n",
    "    \n",
    "    save_button = tk.Button(window, text=\"Save\", command=save_text)\n",
    "    save_button.pack()\n",
    "\n",
    "    # Start the tkinter event loop\n",
    "    window.mainloop()\n",
    "    return newtext\n",
    "\n",
    "\n",
    "class PDF(FPDF):\n",
    "    def __init__(self, head, titl, txt, pth, *args, **kwargs):\n",
    "        super().__init__(*args, **kwargs)\n",
    "        self.details = head\n",
    "        self.title = titl\n",
    "        self.text = txt\n",
    "        self.path= pth \n",
    "        \n",
    "    def header(self):\n",
    "        self.set_y(15)\n",
    "        self.set_left_margin(20)\n",
    "        self.set_font('Calibri Bold', '', 11)\n",
    "        self.set_text_color(169, 169, 169)\n",
    "        self.set_line_width(1)\n",
    "        self.cell(0, 4, self.details)\n",
    "        \n",
    "    def content(self):\n",
    "        self.set_y(28)\n",
    "        self.set_left_margin(20)\n",
    "        self.set_right_margin(20)\n",
    "        self.set_font('Calibri', '', 11)\n",
    "        self.set_text_color(0, 0, 0)\n",
    "        self.multi_cell(0, 4, self.text)         \n",
    "        self.ln()\n",
    "        \n",
    "    def application(self):\n",
    "        self.set_left_margin(90 - (len(self.title) / 2))\n",
    "        self.set_y(45)\n",
    "        self.set_font('Calibri Bold', '', 12)\n",
    "        self.set_text_color(90, 90, 90)\n",
    "        self.set_line_width(1)\n",
    "        self.cell(0, 4, self.title, 'C')\n",
    "        self.set_left_margin(0)\n",
    "        \n",
    "    def date_format(self):\n",
    "        dt=date.today()\n",
    "        DAY=str(dt.day)[-1]\n",
    "        if int(dt.day)<21  and int(dt.day)>9:\n",
    "            fdate=\"%sth of %s, %s\"% (dt.day, dt.strftime('%B'), dt.year)\n",
    "        else:\n",
    "            if DAY==\"0\":\n",
    "                fdate=\"%sth of %s, %s\"%  (dt.day, dt.strftime('%B'), dt.year)\n",
    "            elif DAY==\"1\":      \n",
    "                fdate=\"%sst of %s, %s\"%  (dt.day, dt.strftime('%B'), dt.year)\n",
    "            elif DAY==\"2\":\n",
    "                fdate=\"%snd of %s, %s\"%  (dt.day, dt.strftime('%B'), dt.year)\n",
    "            elif DAY==\"3\":\n",
    "                fdate=\"%srd of %s, %s\"%  (dt.day, dt.strftime('%B'), dt.year)\n",
    "            else:\n",
    "                fdate=\"%sth of %s, %s\"%  (dt.day, dt.strftime('%B'), dt.year)\n",
    "        return fdate  \n",
    "    \n",
    "    def date(self):\n",
    "        self.set_y(28)\n",
    "        self.set_left_margin(172 - len(self.date_format()))\n",
    "        self.set_font('Calibri', '', 11)\n",
    "        self.set_text_color(0, 0, 0)\n",
    "        self.cell(0, 4, self.date_format())\n",
    "        self.set_left_margin(0)\n",
    "        \n",
    "    def print_chapter(self):\n",
    "        # Fonts need to be placed in the directory you are working set by os.chdir\n",
    "        os.chdir(path)\n",
    "        self.add_font('Calibri Italic', '', 'Fonts/Calibri Italic.ttf', uni=True)\n",
    "        self.add_font('Calibri', '', 'Fonts/Calibri Regular.ttf', uni=True)\n",
    "        self.add_font('Calibri Bold', '', 'Fonts/calibrib.ttf', uni=True)        \n",
    "        self.add_page()        \n",
    "        self.header()\n",
    "        self.content()\n",
    "        self.application()\n",
    "        self.date()\n",
    "       \n",
    "        # Adding graphics\n",
    "        self.rect(10, 21, 190, 0.5, style='F')\n",
    "\n",
    "# Set working path:\n",
    "path=r\"C:\\***********\\Cover letter writer in ChatGPT turbo 3.5\"\n",
    "os.chdir(path)"
   ]
  },
  {
   "cell_type": "markdown",
   "id": "7089b0d6",
   "metadata": {},
   "source": [
    "To use ChatGPT, you need some things first. You need an API key, which you can get by signing in here:\n",
    "https://platform.openai.com/account with your google account. \n",
    "\n",
    "You will need two things to proceed: an organization account name, which you can find at: \n",
    "https://platform.openai.com/account/org-settings, \n",
    "\n",
    "and an API key, which you will create at https://platform.openai.com/account/api-keys. \n",
    "\n",
    "To access OpenAI, fill in your details bellow: \n"
   ]
  },
  {
   "cell_type": "code",
   "execution_count": null,
   "id": "302504a3",
   "metadata": {},
   "outputs": [],
   "source": [
    "openai.organization = \"org-################3rQOwmJZ\"\n",
    "openai.api_key = \"sk-#########################k2s9exFtajU26W\"\n",
    "openai.Model.list()"
   ]
  },
  {
   "cell_type": "markdown",
   "id": "8c84a184",
   "metadata": {},
   "source": [
    "Note: Kee your eye on your expenses here: https://platform.openai.com/account/usage\n"
   ]
  },
  {
   "cell_type": "markdown",
   "id": "0165b667",
   "metadata": {},
   "source": [
    "### Job description inputting"
   ]
  },
  {
   "cell_type": "markdown",
   "id": "5cb12946",
   "metadata": {},
   "source": [
    "1. Manual version"
   ]
  },
  {
   "cell_type": "code",
   "execution_count": null,
   "id": "b4d09967",
   "metadata": {},
   "outputs": [],
   "source": [
    "JOB_DESCRIPTIONS=[]\n",
    "job_number = 5   # set number of jobs you will process this round\n",
    "while job_number>=1:\n",
    "    JOB_DESCRIPTIONS.append(input())\n",
    "    job_number-=1\n",
    "JOB_DESCRIPTIONS"
   ]
  },
  {
   "cell_type": "markdown",
   "id": "43a90f13",
   "metadata": {},
   "source": [
    "2. Automated version"
   ]
  },
  {
   "cell_type": "code",
   "execution_count": null,
   "id": "6be2d567",
   "metadata": {},
   "outputs": [],
   "source": [
    "df=pd.DataFrame(pd.read_excel(\"job description database.xlsx\"))\n",
    "df"
   ]
  },
  {
   "cell_type": "code",
   "execution_count": null,
   "id": "1694f27b",
   "metadata": {},
   "outputs": [],
   "source": [
    "#with open(r\"G:\\last desktop\\jobs application\\cv alternatives\\cover letter formats custom.txt\") as f:\n",
    "with open(\"cover-letter-format-custom.txt\") as f:    \n",
    "    template = f.readlines()\n",
    "print(template)"
   ]
  },
  {
   "cell_type": "code",
   "execution_count": null,
   "id": "77d4eef4",
   "metadata": {
    "scrolled": true
   },
   "outputs": [],
   "source": [
    "#with open(r\"G:\\last desktop\\jobs application\\cv alternatives\\cv text.txt\") as f:\n",
    "with open(\"cv.txt\") as f:\n",
    "    cv = f.readlines()\n",
    "print(cv)"
   ]
  },
  {
   "cell_type": "markdown",
   "id": "f8dfb8cd",
   "metadata": {},
   "source": [
    "### GPT response generation"
   ]
  },
  {
   "cell_type": "markdown",
   "id": "188261ee",
   "metadata": {},
   "source": [
    "1. Manual version"
   ]
  },
  {
   "cell_type": "code",
   "execution_count": null,
   "id": "12e35f9d",
   "metadata": {},
   "outputs": [],
   "source": [
    "#Cover letters are generatd in ChatGPT 3.5 Turbo\n",
    "cover_letters=[]\n",
    "\n",
    "manual_script=\"\"\" Given that this is the job description: %s  and my resume is:\n",
    "        %s, write me a complete cover letter under 1000 words addressed to Dear Hiring Manager, in the %s format \n",
    "        , making sure only relevant experiences and skills that are mentioned in my CV are mentioned and it's easy to read,\n",
    "        not too cluttered with technical jargon.\"\"\"\n",
    "\n",
    "counter=0\n",
    "for DESCRIPTION in JOB_DESCRIPTIONS:\n",
    "    counter+=1\n",
    "    if counter<3:\n",
    "        command=manual_script %(DESCRIPTION,cv, template)\n",
    "        #print(command)\n",
    "        cover_letters.append([openai.ChatCompletion.create(model=\"gpt-3.5-turbo-0301\", \n",
    "                                                           messages=[{\"role\": \"system\", \"content\": command}], \n",
    "                                                           max_tokens=1000)]) # max tokens keeps the output size in control\n",
    "    else:\n",
    "        print(\"could not perform task\")\n",
    "        break\n",
    "print(\"In total, I created %s raw cover letters\" %counter) \n",
    "print(\"output is: \", cover_letters)\n",
    "\n",
    "#Give it few seconds or a minute to write the prompt."
   ]
  },
  {
   "cell_type": "markdown",
   "id": "7bdd9c82",
   "metadata": {},
   "source": [
    "2. Automated version"
   ]
  },
  {
   "cell_type": "code",
   "execution_count": null,
   "id": "23d65089",
   "metadata": {},
   "outputs": [],
   "source": [
    "df2=df.iloc[:,[2,3,6,7,10,11]].drop_duplicates(keep='last')\n",
    "\n",
    "cover_letters=[]\n",
    "\n",
    "counter=0\n",
    "for index, row in df2.iterrows():\n",
    "    counter+=1\n",
    "    if counter<3:\n",
    "        command=\"\"\" There is a job opening at %s company in %s for %s. Given that this is the job description:\n",
    "        %s (and, if not n.a., this is the required experience, %s, and the company description: %s), and my resume is:\n",
    "        %s,, write me a complete cover letter under 1000 words addressed to Dear Hiring Manager, in the %s format \n",
    "        (just fill in the prompts in the brackets with stuff in my CV!!!), making sure only relevant experiences \n",
    "        and skills that are mentioned in my CV are mentioned and it's easy to read, not too cluttered with technical \n",
    "        jargon.\"\"\" %(row[0],row[1],row[2],row[3],row[4],row[5],cv, template)\n",
    "        #print(command)\n",
    "        cover_letters.append([openai.ChatCompletion.create(model=\"gpt-3.5-turbo-0301\", \n",
    "                                                           messages=[{\"role\": \"system\", \"content\": command}],\n",
    "                                                           max_tokens=1000)]) # max tokens keeps the output size in control\n",
    "    else:\n",
    "        print(\"could not perform task\")\n",
    "        break\n",
    "print(\"In total I created %s screenplays\" %cover_letters)    \n",
    "print(\"output is: \", cover_letters)"
   ]
  },
  {
   "cell_type": "markdown",
   "id": "92bceede",
   "metadata": {},
   "source": [
    "### Text editing and saving to PDF"
   ]
  },
  {
   "cell_type": "markdown",
   "id": "96c09a80",
   "metadata": {},
   "source": [
    "1. Manual version"
   ]
  },
  {
   "cell_type": "code",
   "execution_count": null,
   "id": "ff231b58",
   "metadata": {},
   "outputs": [],
   "source": [
    "# Modify here for your contact details\n",
    "header=\"              John Doe    |   (555) 555-5555   |   john.doe@gmail.com   |   linkedin.com/in/john-doe\"\n",
    "\n",
    "counter=0\n",
    "for response,desc in zip(cover_letters, JOB_DESCRIPTIONS):\n",
    "    counter+=1\n",
    "    title = 'Application for the Data Analyst position'\n",
    "    x=text_message = response[0]['choices'][0]['message']['content']\n",
    "    textraw = \"\\n\\n\\n\\n\\n\\n\\n\\n\"+x\n",
    "    print(\"description of job is :\", desc)\n",
    "    text=text_editor(textraw)\n",
    "    pdf = PDF(header, title, text,path)\n",
    "    pdf.set_title(title)\n",
    "    pdf.print_chapter()\n",
    "    pdf.output(\"John Doe Cover Letter %s.pdf\"%counter, 'F')\n",
    "    # set your prefered save destination on your pc and change name of file to suit your need"
   ]
  },
  {
   "cell_type": "markdown",
   "id": "c5fc61d1",
   "metadata": {},
   "source": [
    "1. Automated version"
   ]
  },
  {
   "cell_type": "code",
   "execution_count": null,
   "id": "b9425af2",
   "metadata": {},
   "outputs": [],
   "source": [
    "# Modify here for your contact details\n",
    "header=\"              John Doe    |   (555) 555-5555   |   john.doe@gmail.com   |   linkedin.com/in/john-doe\"\n",
    "\n",
    "\n",
    "counter=0\n",
    "for response,desc in zip(cover_letters, df.iloc[:3,7]):\n",
    "    counter+=1\n",
    "    title = 'Application for the Data Analyst position'\n",
    "    x=text_message = response[0]['choices'][0]['message']['content']\n",
    "    textraw = \"\\n\\n\\n\\n\\n\\n\\n\\n\"+x\n",
    "    print(\"description of job is :\", desc)\n",
    "    text=text_editor(textraw)\n",
    "    pdf = PDF(header, title, text,path)\n",
    "    pdf.set_title(title)\n",
    "    pdf.print_chapter()\n",
    "    pdf.output(\"John Doe Cover Letter %s.pdf\"%counter, 'F')\n",
    "    # set your prefered save destination on your pc and change name of file to suit your need"
   ]
  }
 ],
 "metadata": {
  "kernelspec": {
   "display_name": "Python 3 (ipykernel)",
   "language": "python",
   "name": "python3"
  },
  "language_info": {
   "codemirror_mode": {
    "name": "ipython",
    "version": 3
   },
   "file_extension": ".py",
   "mimetype": "text/x-python",
   "name": "python",
   "nbconvert_exporter": "python",
   "pygments_lexer": "ipython3",
   "version": "3.11.0"
  }
 },
 "nbformat": 4,
 "nbformat_minor": 5
}
